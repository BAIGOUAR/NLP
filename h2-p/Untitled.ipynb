{
 "cells": [
  {
   "cell_type": "code",
   "execution_count": 10,
   "metadata": {
    "collapsed": false
   },
   "outputs": [
    {
     "name": "stdout",
     "output_type": "stream",
     "text": [
      "4085\n",
      "3543\n"
     ]
    }
   ],
   "source": [
    "#! /usr/bin/python\n",
    "\n",
    "__author__=\"Alexander Rush <srush@csail.mit.edu>\"\n",
    "__date__ =\"$Sep 12, 2012\"\n",
    "\n",
    "import sys, json\n",
    "from collections import defaultdict\n",
    "\n",
    "\"\"\"\n",
    "Count rule frequencies in a binarized CFG.\n",
    "\"\"\"\n",
    "\n",
    "class Counts:\n",
    "  def __init__(self):\n",
    "    self.unary = {}\n",
    "    self.binary = {}\n",
    "    self.nonterm = {}\n",
    "    # rare words counts and rare words set\n",
    "    self.count_word = defaultdict(int)\n",
    "    self.rare=set()\n",
    "\n",
    "  def show(self):\n",
    "    #for symbol, count in self.nonterm.iteritems():\n",
    "     # print count, \"NONTERMINAL\", symbol\n",
    "\n",
    "    for (sym, word), count in self.unary.items():\n",
    "      print (count, \"UNARYRULE\", sym, word)\n",
    "\n",
    "    #for (sym, y1, y2), count in self.binary.iteritems():\n",
    "    #  print count, \"BINARYRULE\", sym, y1, y2\n",
    "\n",
    "  def count(self, tree):\n",
    "    \"\"\"\n",
    "    Count the frequencies of non-terminals and rules in the tree.\n",
    "    \"\"\"\n",
    "    if isinstance(tree, str): return\n",
    "\n",
    "    # Count the non-terminal symbol. \n",
    "    symbol = tree[0]\n",
    "    self.nonterm.setdefault(symbol, 0)\n",
    "    self.nonterm[symbol] += 1\n",
    "    \n",
    "    if len(tree) == 3:\n",
    "      # It is a binary rule.\n",
    "      y1, y2 = (tree[1][0], tree[2][0])\n",
    "      key = (symbol, y1, y2)\n",
    "      self.binary.setdefault(key, 0)\n",
    "      self.binary[(symbol, y1, y2)] += 1\n",
    "      \n",
    "      # Recursively count the children.\n",
    "      self.count(tree[1])\n",
    "      self.count(tree[2])\n",
    "    elif len(tree) == 2:\n",
    "      # It is a unary rule.\n",
    "      y1 = tree[1]\n",
    "      key = (symbol, y1)\n",
    "      self.unary.setdefault(key, 0)\n",
    "      self.unary[key] += 1\n",
    "    \n",
    "\n",
    "  def check_rare(self):\n",
    "    word_list=[]\n",
    "    print (len(self.unary))\n",
    "    for (sym, word), count in self.unary.items():\n",
    "        #print (word,count)\n",
    "\n",
    "        if count < 5:\n",
    "            self.rare.add(word)\n",
    "    print (len(self.rare))\n",
    "    \n",
    "\n",
    "def main(parse_file):\n",
    "  counter = Counts() \n",
    "  for l in open(parse_file):\n",
    "    t = json.loads(l)\n",
    "    counter.count(t)\n",
    "  #counter.show()\n",
    "  counter.check_rare()\n",
    "\n",
    "def usage():\n",
    "    sys.stderr.write(\"\"\"\n",
    "    Usage: python count_cfg_freq.py [tree_file]\n",
    "        Print the counts of a corpus of trees.\\n\"\"\")\n",
    "\n",
    "if __name__ == \"__main__\": \n",
    "  main (\"parse_train.dat\")\n",
    "  \n",
    "  \n"
   ]
  },
  {
   "cell_type": "code",
   "execution_count": null,
   "metadata": {
    "collapsed": true
   },
   "outputs": [],
   "source": []
  }
 ],
 "metadata": {
  "kernelspec": {
   "display_name": "Python 3",
   "language": "python",
   "name": "python3"
  },
  "language_info": {
   "codemirror_mode": {
    "name": "ipython",
    "version": 3
   },
   "file_extension": ".py",
   "mimetype": "text/x-python",
   "name": "python",
   "nbconvert_exporter": "python",
   "pygments_lexer": "ipython3",
   "version": "3.5.1"
  }
 },
 "nbformat": 4,
 "nbformat_minor": 0
}
