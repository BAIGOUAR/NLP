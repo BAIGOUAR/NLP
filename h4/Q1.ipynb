{
 "cells": [
  {
   "cell_type": "code",
   "execution_count": 4,
   "metadata": {
    "collapsed": true
   },
   "outputs": [],
   "source": [
    "\n",
    "__author__=\"Irene Li <irenelizihui@gmail.com>\"\n",
    "__date__ =\"$May 16, 2016\"\n",
    "\n",
    "import sys\n",
    "from collections import defaultdict\n",
    "\n"
   ]
  },
  {
   "cell_type": "code",
   "execution_count": 9,
   "metadata": {
    "collapsed": true
   },
   "outputs": [],
   "source": [
    "class decoder():\n",
    "    def __init__(self):\n",
    "        self.trigram = defaultdict(float)\n",
    "        self.tag = defaultdict(float)\n",
    "        \n",
    "    def build_maps(self,infile):\n",
    "        for line in infile:\n",
    "            #TAG:photobleached:I-GENE -1.0\n",
    "            group = line.split(' ')\n",
    "            if group[0].split(':')[0]=='TAG':\n",
    "                self.tag[group[0]]=float(group[1])\n",
    "            elif group[0].split(':')[0]=='TRIGRAM':\n",
    "                self.trigram[group[0]]=float(group[1])\n",
    "            \n",
    "        print (len(self.tag),len(self.trigram))\n",
    "        print (self.trigram)\n",
    "    \n",
    "    "
   ]
  },
  {
   "cell_type": "code",
   "execution_count": 10,
   "metadata": {
    "collapsed": false
   },
   "outputs": [
    {
     "name": "stdout",
     "output_type": "stream",
     "text": [
      "33090 11\n",
      "defaultdict(<class 'float'>, {'TRIGRAM:*:*:O': 3.0, 'TRIGRAM:I-GENE:O:O': -2.0, 'TRIGRAM:*:I-GENE:I-GENE': -4.0, 'TRIGRAM:*:O:O': 4.0, 'TRIGRAM:O:I-GENE:STOP': -8.0, 'TRIGRAM:I-GENE:O:STOP': 7.0, 'TRIGRAM:O:O:STOP': 15.0, 'TRIGRAM:I-GENE:I-GENE:STOP': -14.0, 'TRIGRAM:I-GENE:I-GENE:I-GENE': 27.0, 'TRIGRAM:O:I-GENE:I-GENE': -25.0, 'TRIGRAM:*:*:I-GENE': -3.0})\n",
      "start\n"
     ]
    }
   ],
   "source": [
    "def usage():\n",
    "    sys.stderr.write(\"\"\"\n",
    "   Whatever...\"\"\")\n",
    "\n",
    "if __name__ == \"__main__\":\n",
    "    decoder = decoder()\n",
    "    input_file = open (r'tag.model','r')\n",
    "    decoder.build_maps(input_file)\n",
    "    print ('start')"
   ]
  },
  {
   "cell_type": "code",
   "execution_count": null,
   "metadata": {
    "collapsed": true
   },
   "outputs": [],
   "source": []
  }
 ],
 "metadata": {
  "kernelspec": {
   "display_name": "Python 3",
   "language": "python",
   "name": "python3"
  },
  "language_info": {
   "codemirror_mode": {
    "name": "ipython",
    "version": 3
   },
   "file_extension": ".py",
   "mimetype": "text/x-python",
   "name": "python",
   "nbconvert_exporter": "python",
   "pygments_lexer": "ipython3",
   "version": "3.5.1"
  }
 },
 "nbformat": 4,
 "nbformat_minor": 0
}
