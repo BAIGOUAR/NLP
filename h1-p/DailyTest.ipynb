{
 "cells": [
  {
   "cell_type": "code",
   "execution_count": 12,
   "metadata": {
    "collapsed": false
   },
   "outputs": [
    {
     "name": "stdout",
     "output_type": "stream",
     "text": [
      "[<TarInfo '36979.jpg' at 0x1043a2750>, <TarInfo '148284.jpg' at 0x1043a2818>, <TarInfo '1317156.jpg' at 0x1043a28e0>]\n"
     ]
    }
   ],
   "source": [
    "import os\n",
    "import tarfile\n",
    "import re\n",
    "\n",
    "\n",
    "archive_file_name = 'sample.tar'\n",
    "archive = tarfile.open(archive_file_name, 'r')\n",
    "archive_list = archive.getmembers()\n",
    "print (archive_list)\n"
   ]
  },
  {
   "cell_type": "code",
   "execution_count": 3,
   "metadata": {
    "collapsed": false
   },
   "outputs": [
    {
     "name": "stdout",
     "output_type": "stream",
     "text": [
      "<class 'list'>\n"
     ]
    }
   ],
   "source": []
  },
  {
   "cell_type": "code",
   "execution_count": 43,
   "metadata": {
    "collapsed": false
   },
   "outputs": [
    {
     "name": "stdout",
     "output_type": "stream",
     "text": [
      "works 36979\n"
     ]
    }
   ],
   "source": [
    "startpoint = '1679732375'\n",
    "\n",
    "for idx, img in enumerate(archive_list):\n",
    "    value = re.findall('^[0-9]+',img.name)[0]\n",
    "    if value > startpoint:\n",
    "        print ('works',value)\n",
    "\n",
    "   \n",
    "    \n"
   ]
  },
  {
   "cell_type": "code",
   "execution_count": 39,
   "metadata": {
    "collapsed": false
   },
   "outputs": [
    {
     "ename": "FileNotFoundError",
     "evalue": "[Errno 2] No such file or directory: '/mydir'",
     "output_type": "error",
     "traceback": [
      "\u001b[0;31m---------------------------------------------------------------------------\u001b[0m",
      "\u001b[0;31mFileNotFoundError\u001b[0m                         Traceback (most recent call last)",
      "\u001b[0;32m<ipython-input-39-a8ebd978b745>\u001b[0m in \u001b[0;36m<module>\u001b[0;34m()\u001b[0m\n\u001b[1;32m      1\u001b[0m \u001b[0msave_dir\u001b[0m \u001b[0;34m=\u001b[0m \u001b[0;34m'save_res_img'\u001b[0m\u001b[0;34m\u001b[0m\u001b[0m\n\u001b[0;32m----> 2\u001b[0;31m \u001b[0mprint\u001b[0m \u001b[0;34m(\u001b[0m\u001b[0mos\u001b[0m\u001b[0;34m.\u001b[0m\u001b[0mchdir\u001b[0m\u001b[0;34m(\u001b[0m\u001b[0;34m\"/mydir\"\u001b[0m\u001b[0;34m)\u001b[0m\u001b[0;34m)\u001b[0m\u001b[0;34m\u001b[0m\u001b[0m\n\u001b[0m\u001b[1;32m      3\u001b[0m \u001b[0mfilelist\u001b[0m \u001b[0;34m=\u001b[0m \u001b[0mos\u001b[0m\u001b[0;34m.\u001b[0m\u001b[0mlistdir\u001b[0m\u001b[0;34m(\u001b[0m\u001b[0mos\u001b[0m\u001b[0;34m.\u001b[0m\u001b[0mchdir\u001b[0m\u001b[0;34m(\u001b[0m\u001b[0msave_dir\u001b[0m\u001b[0;34m)\u001b[0m\u001b[0;34m)\u001b[0m\u001b[0;34m\u001b[0m\u001b[0m\n\u001b[1;32m      4\u001b[0m \u001b[0mprint\u001b[0m \u001b[0;34m(\u001b[0m\u001b[0mfilelist\u001b[0m\u001b[0;34m)\u001b[0m\u001b[0;34m\u001b[0m\u001b[0m\n",
      "\u001b[0;31mFileNotFoundError\u001b[0m: [Errno 2] No such file or directory: '/mydir'"
     ]
    }
   ],
   "source": [
    "save_dir = 'save_res_img'\n",
    "print (os.chdir(\"/mydir\"))\n",
    "filelist = os.listdir(os.chdir(save_dir))\n",
    "print (filelist)"
   ]
  },
  {
   "cell_type": "code",
   "execution_count": 42,
   "metadata": {
    "collapsed": false
   },
   "outputs": [
    {
     "name": "stdout",
     "output_type": "stream",
     "text": [
      "Yeah\n"
     ]
    }
   ],
   "source": [
    "# filelist = os.listdir(os.getcwd())\n",
    "\n",
    "# filelist = filter(lambda x: not os.path.isdir(x), filelist)\n",
    "\n",
    "# newest = max(filelist, key=lambda x: os.stat(x).st_mtime)\n",
    "\n",
    "# newest\n",
    "\n",
    "\n",
    "# name = re.findall(r'\\d+',st)[0]\n",
    "s = '1430'\n",
    "b = '15'\n",
    "\n",
    "if s < b:\n",
    "    print ('Yeah')"
   ]
  },
  {
   "cell_type": "code",
   "execution_count": null,
   "metadata": {
    "collapsed": true
   },
   "outputs": [],
   "source": [
    "import sys, os, ast\n",
    "import tarfile\n",
    "import numpy as np\n",
    "from skimage import data\n",
    "from PIL import Image as PILImage\n",
    "import matplotlib.pyplot as plt\n",
    "\n",
    "# assuming caffe is in /crf_rnn/caffe_crfrnn'\n",
    "#caffe_root = '../../caffe-crfrnn/'\n",
    "caffe_root = '../caffe-crfrnn/'\n",
    "sys.path.insert(0, caffe_root + 'python')\n",
    "import caffe\n",
    "\n",
    "# check if save directory exists, create it if necessary\n",
    "save_dir = 'results01'\n",
    "try:\n",
    "    os.makedirs(save_dir)\n",
    "except OSError:\n",
    "    if not os.path.isdir(save_dir):\n",
    "        raise\n",
    "\n",
    "archive_file_name = 'flickr.tar'\n",
    "# start point\n",
    "name = '1679732375'\n",
    "# get the list of files in the archive\n",
    "archive = tarfile.open(archive_file_name, 'r')\n",
    "archive_list = archive.getmembers()\n",
    "# these must be in the same directory\n",
    "MODEL_FILE = 'TVG_CRFRNN_COCO_VOC.prototxt'\n",
    "PRETRAINED = 'TVG_CRFRNN_COCO_VOC.caffemodel'\n",
    "net = caffe.Segmenter(MODEL_FILE, PRETRAINED, gpu=True)\n",
    "# loop through images in the archive\n",
    "for idx, img in enumerate(archive_list):\n",
    "    # load image and resize to fit the input size of the RNN\n",
    "    value = re.findall('^[0-9]+',img.name)[0]\n",
    "    if value > startpoint:\n",
    "       \n",
    "    \n"
   ]
  }
 ],
 "metadata": {
  "kernelspec": {
   "display_name": "Python 3",
   "language": "python",
   "name": "python3"
  },
  "language_info": {
   "codemirror_mode": {
    "name": "ipython",
    "version": 3
   },
   "file_extension": ".py",
   "mimetype": "text/x-python",
   "name": "python",
   "nbconvert_exporter": "python",
   "pygments_lexer": "ipython3",
   "version": "3.5.1"
  }
 },
 "nbformat": 4,
 "nbformat_minor": 0
}
